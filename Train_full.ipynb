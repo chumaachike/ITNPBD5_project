{
  "cells": [
    {
      "cell_type": "markdown",
      "metadata": {
        "id": "Nm_bTT3T6_Xd"
      },
      "source": [
        "# Mount Device"
      ]
    },
    {
      "cell_type": "code",
      "execution_count": 1,
      "metadata": {
        "colab": {
          "base_uri": "https://localhost:8080/"
        },
        "id": "K7V5ii1X61GY",
        "outputId": "f159c3e4-9a88-4469-97cf-7989f197cbeb"
      },
      "outputs": [
        {
          "output_type": "stream",
          "name": "stdout",
          "text": [
            "Drive already mounted at /content/drive; to attempt to forcibly remount, call drive.mount(\"/content/drive\", force_remount=True).\n"
          ]
        }
      ],
      "source": [
        "from google.colab import drive\n",
        "drive.mount('/content/drive')\n"
      ]
    },
    {
      "cell_type": "markdown",
      "metadata": {
        "id": "DbgW3Ckt7E38"
      },
      "source": [
        "# Download Packages"
      ]
    },
    {
      "cell_type": "code",
      "execution_count": 2,
      "metadata": {
        "colab": {
          "base_uri": "https://localhost:8080/"
        },
        "id": "2KLMcuwh68g6",
        "outputId": "0dc977b3-d66d-4b42-d4ed-88b8cef3f903"
      },
      "outputs": [
        {
          "output_type": "stream",
          "name": "stdout",
          "text": [
            "fatal: destination path 'facenet_pytorch' already exists and is not an empty directory.\n",
            "Looking in indexes: https://download.pytorch.org/whl/cu118\n",
            "Requirement already satisfied: torch in /usr/local/lib/python3.10/dist-packages (2.4.0+cpu)\n",
            "Requirement already satisfied: torchvision in /usr/local/lib/python3.10/dist-packages (0.19.0+cpu)\n",
            "Requirement already satisfied: torchaudio in /usr/local/lib/python3.10/dist-packages (2.4.0+cpu)\n",
            "Requirement already satisfied: filelock in /usr/local/lib/python3.10/dist-packages (from torch) (3.15.4)\n",
            "Requirement already satisfied: typing-extensions>=4.8.0 in /usr/local/lib/python3.10/dist-packages (from torch) (4.12.2)\n",
            "Requirement already satisfied: sympy in /usr/local/lib/python3.10/dist-packages (from torch) (1.13.2)\n",
            "Requirement already satisfied: networkx in /usr/local/lib/python3.10/dist-packages (from torch) (3.3)\n",
            "Requirement already satisfied: jinja2 in /usr/local/lib/python3.10/dist-packages (from torch) (3.1.4)\n",
            "Requirement already satisfied: fsspec in /usr/local/lib/python3.10/dist-packages (from torch) (2024.6.1)\n",
            "Requirement already satisfied: numpy in /usr/local/lib/python3.10/dist-packages (from torchvision) (1.26.4)\n",
            "Requirement already satisfied: pillow!=8.3.*,>=5.3.0 in /usr/local/lib/python3.10/dist-packages (from torchvision) (10.4.0)\n",
            "Requirement already satisfied: MarkupSafe>=2.0 in /usr/local/lib/python3.10/dist-packages (from jinja2->torch) (2.1.5)\n",
            "Requirement already satisfied: mpmath<1.4,>=1.1.0 in /usr/local/lib/python3.10/dist-packages (from sympy->torch) (1.3.0)\n",
            "Requirement already satisfied: mxnet in /usr/local/lib/python3.10/dist-packages (1.9.1)\n",
            "Requirement already satisfied: numpy<2.0.0,>1.16.0 in /usr/local/lib/python3.10/dist-packages (from mxnet) (1.26.4)\n",
            "Requirement already satisfied: requests<3,>=2.20.0 in /usr/local/lib/python3.10/dist-packages (from mxnet) (2.32.3)\n",
            "Requirement already satisfied: graphviz<0.9.0,>=0.8.1 in /usr/local/lib/python3.10/dist-packages (from mxnet) (0.8.4)\n",
            "Requirement already satisfied: charset-normalizer<4,>=2 in /usr/local/lib/python3.10/dist-packages (from requests<3,>=2.20.0->mxnet) (3.3.2)\n",
            "Requirement already satisfied: idna<4,>=2.5 in /usr/local/lib/python3.10/dist-packages (from requests<3,>=2.20.0->mxnet) (3.8)\n",
            "Requirement already satisfied: urllib3<3,>=1.21.1 in /usr/local/lib/python3.10/dist-packages (from requests<3,>=2.20.0->mxnet) (2.0.7)\n",
            "Requirement already satisfied: certifi>=2017.4.17 in /usr/local/lib/python3.10/dist-packages (from requests<3,>=2.20.0->mxnet) (2024.8.30)\n",
            "Requirement already satisfied: torchmetrics in /usr/local/lib/python3.10/dist-packages (1.4.1)\n",
            "Requirement already satisfied: numpy>1.20.0 in /usr/local/lib/python3.10/dist-packages (from torchmetrics) (1.26.4)\n",
            "Requirement already satisfied: packaging>17.1 in /usr/local/lib/python3.10/dist-packages (from torchmetrics) (24.1)\n",
            "Requirement already satisfied: torch>=1.10.0 in /usr/local/lib/python3.10/dist-packages (from torchmetrics) (2.4.0+cpu)\n",
            "Requirement already satisfied: lightning-utilities>=0.8.0 in /usr/local/lib/python3.10/dist-packages (from torchmetrics) (0.11.7)\n",
            "Requirement already satisfied: setuptools in /usr/local/lib/python3.10/dist-packages (from lightning-utilities>=0.8.0->torchmetrics) (71.0.4)\n",
            "Requirement already satisfied: typing-extensions in /usr/local/lib/python3.10/dist-packages (from lightning-utilities>=0.8.0->torchmetrics) (4.12.2)\n",
            "Requirement already satisfied: filelock in /usr/local/lib/python3.10/dist-packages (from torch>=1.10.0->torchmetrics) (3.15.4)\n",
            "Requirement already satisfied: sympy in /usr/local/lib/python3.10/dist-packages (from torch>=1.10.0->torchmetrics) (1.13.2)\n",
            "Requirement already satisfied: networkx in /usr/local/lib/python3.10/dist-packages (from torch>=1.10.0->torchmetrics) (3.3)\n",
            "Requirement already satisfied: jinja2 in /usr/local/lib/python3.10/dist-packages (from torch>=1.10.0->torchmetrics) (3.1.4)\n",
            "Requirement already satisfied: fsspec in /usr/local/lib/python3.10/dist-packages (from torch>=1.10.0->torchmetrics) (2024.6.1)\n",
            "Requirement already satisfied: MarkupSafe>=2.0 in /usr/local/lib/python3.10/dist-packages (from jinja2->torch>=1.10.0->torchmetrics) (2.1.5)\n",
            "Requirement already satisfied: mpmath<1.4,>=1.1.0 in /usr/local/lib/python3.10/dist-packages (from sympy->torch>=1.10.0->torchmetrics) (1.3.0)\n"
          ]
        }
      ],
      "source": [
        "# or clone this repo, removing the '-' to allow python imports:\n",
        "!git clone https://github.com/timesler/facenet-pytorch.git facenet_pytorch\n",
        "!pip3 install torch torchvision torchaudio --index-url https://download.pytorch.org/whl/cu118\n",
        "!pip install mxnet\n",
        "!pip install torchmetrics"
      ]
    },
    {
      "cell_type": "markdown",
      "metadata": {
        "id": "EdMyXkp37NJX"
      },
      "source": [
        "# Import dependencies"
      ]
    },
    {
      "cell_type": "code",
      "execution_count": 3,
      "metadata": {
        "colab": {
          "base_uri": "https://localhost:8080/"
        },
        "id": "CBxJUWVJ7KSL",
        "outputId": "8d6e069a-d5bb-4caa-a27f-94b5a7d64bcb"
      },
      "outputs": [
        {
          "output_type": "stream",
          "name": "stderr",
          "text": [
            "/usr/local/lib/python3.10/dist-packages/torch_xla/__init__.py:202: UserWarning: `tensorflow` can conflict with `torch-xla`. Prefer `tensorflow-cpu` when using PyTorch/XLA. To silence this warning, `pip uninstall -y tensorflow && pip install tensorflow-cpu`. If you are in a notebook environment such as Colab or Kaggle, restart your notebook runtime afterwards.\n",
            "  warnings.warn(\n",
            "/content/facenet_pytorch/models/mtcnn.py:34: FutureWarning: You are using `torch.load` with `weights_only=False` (the current default value), which uses the default pickle module implicitly. It is possible to construct malicious pickle data which will execute arbitrary code during unpickling (See https://github.com/pytorch/pytorch/blob/main/SECURITY.md#untrusted-models for more details). In a future release, the default value for `weights_only` will be flipped to `True`. This limits the functions that could be executed during unpickling. Arbitrary objects will no longer be allowed to be loaded via this mode unless they are explicitly allowlisted by the user via `torch.serialization.add_safe_globals`. We recommend you start setting `weights_only=True` for any use case where you don't have full control of the loaded file. Please open an issue on GitHub for any issues related to this experimental feature.\n",
            "  state_dict = torch.load(state_dict_path)\n",
            "/content/facenet_pytorch/models/mtcnn.py:79: FutureWarning: You are using `torch.load` with `weights_only=False` (the current default value), which uses the default pickle module implicitly. It is possible to construct malicious pickle data which will execute arbitrary code during unpickling (See https://github.com/pytorch/pytorch/blob/main/SECURITY.md#untrusted-models for more details). In a future release, the default value for `weights_only` will be flipped to `True`. This limits the functions that could be executed during unpickling. Arbitrary objects will no longer be allowed to be loaded via this mode unless they are explicitly allowlisted by the user via `torch.serialization.add_safe_globals`. We recommend you start setting `weights_only=True` for any use case where you don't have full control of the loaded file. Please open an issue on GitHub for any issues related to this experimental feature.\n",
            "  state_dict = torch.load(state_dict_path)\n",
            "/content/facenet_pytorch/models/mtcnn.py:132: FutureWarning: You are using `torch.load` with `weights_only=False` (the current default value), which uses the default pickle module implicitly. It is possible to construct malicious pickle data which will execute arbitrary code during unpickling (See https://github.com/pytorch/pytorch/blob/main/SECURITY.md#untrusted-models for more details). In a future release, the default value for `weights_only` will be flipped to `True`. This limits the functions that could be executed during unpickling. Arbitrary objects will no longer be allowed to be loaded via this mode unless they are explicitly allowlisted by the user via `torch.serialization.add_safe_globals`. We recommend you start setting `weights_only=True` for any use case where you don't have full control of the loaded file. Please open an issue on GitHub for any issues related to this experimental feature.\n",
            "  state_dict = torch.load(state_dict_path)\n"
          ]
        }
      ],
      "source": [
        "import numpy as np\n",
        "import os\n",
        "np.bool = bool\n",
        "import mxnet as mx\n",
        "import torch\n",
        "import torchvision.transforms as transforms\n",
        "from torch.utils.data import Dataset, DataLoader, Subset, random_split\n",
        "from PIL import Image\n",
        "import cv2\n",
        "import matplotlib.pyplot as plt\n",
        "import torch.nn as nn\n",
        "import torch.nn.functional as F\n",
        "import math\n",
        "import torch_xla\n",
        "import torch_xla.core.xla_model as xm\n",
        "import torch_xla.distributed.parallel_loader as pl\n",
        "import torch_xla.distributed.xla_multiprocessing as xmp\n",
        "from facenet_pytorch import MTCNN\n",
        "import torch.optim as optim\n",
        "from torch.optim.lr_scheduler import MultiStepLR\n",
        "from torchmetrics import Accuracy\n",
        "import torch_xla.utils.serialization as xser\n",
        "from Utils import preprocess_image, CANONICAL_LANDMARKS\n",
        "from CasiaWebFace import CASIAWebFaceDataset\n",
        "from Intermediate_Strategy import MobileFaceNetIntermediate\n",
        "from ArcFace import ArcFaceLoss\n",
        "from MobileFaceNet import MobileFaceNet\n",
        "from train_functions import train, train_tpu"
      ]
    },
    {
      "cell_type": "code",
      "execution_count": null,
      "metadata": {
        "colab": {
          "base_uri": "https://localhost:8080/"
        },
        "id": "l9E12Oz_8Zfh",
        "outputId": "4a95b300-6b42-44f1-c48b-6b8184120597"
      },
      "outputs": [
        {
          "output_type": "stream",
          "name": "stderr",
          "text": [
            "<ipython-input-4-5d8291e3ca56>:58: FutureWarning: You are using `torch.load` with `weights_only=False` (the current default value), which uses the default pickle module implicitly. It is possible to construct malicious pickle data which will execute arbitrary code during unpickling (See https://github.com/pytorch/pytorch/blob/main/SECURITY.md#untrusted-models for more details). In a future release, the default value for `weights_only` will be flipped to `True`. This limits the functions that could be executed during unpickling. Arbitrary objects will no longer be allowed to be loaded via this mode unless they are explicitly allowlisted by the user via `torch.serialization.add_safe_globals`. We recommend you start setting `weights_only=True` for any use case where you don't have full control of the loaded file. Please open an issue on GitHub for any issues related to this experimental feature.\n",
            "  checkpoint = torch.load(model_path)\n"
          ]
        },
        {
          "output_type": "stream",
          "name": "stdout",
          "text": [
            "Checkpoint loaded successfully!\n",
            "Epoch 1/75, Current LR: 0.000010\n",
            "Train Loss: 4.7499, Train Accuracy: 0.3392\n",
            "Epoch 2/75, Current LR: 0.000010\n",
            "Train Loss: 4.7433, Train Accuracy: 0.3405\n",
            "Epoch 3/75, Current LR: 0.000010\n",
            "Train Loss: 4.7376, Train Accuracy: 0.3415\n"
          ]
        }
      ],
      "source": [
        "def _mp_fn(rank, flags, rec_file, idx_file):\n",
        "    # Define the device as TPU\n",
        "    device = xm.xla_device()\n",
        "\n",
        "    # Define the mean and std for normalization\n",
        "    mean = [0.485, 0.456, 0.406]\n",
        "    std = [0.229, 0.224, 0.225]\n",
        "\n",
        "    # Define a named function to replace the lambda (already provided earlier)\n",
        "    def preprocess_and_transform(img):\n",
        "        img = preprocess_image(img)  # Ensure preprocess_image is defined elsewhere\n",
        "        img = transforms.ToTensor()(img)\n",
        "        img = transforms.Normalize(mean=mean, std=std)(img)\n",
        "        return img\n",
        "\n",
        "    # Define the transformation pipeline for training with augmentation\n",
        "    train_transform = transforms.Compose([\n",
        "        transforms.RandomHorizontalFlip(),\n",
        "        transforms.RandomRotation(10),  # Rotate by +/- 10 degrees\n",
        "        transforms.ColorJitter(brightness=0.2, contrast=0.2, saturation=0.2, hue=0.1),\n",
        "        transforms.RandomResizedCrop(112, scale=(0.8, 1.0)),  # Randomly crop and resize to 112x112\n",
        "        transforms.Lambda(preprocess_and_transform)\n",
        "    ])\n",
        "\n",
        "    # Initialize the dataset inside the function\n",
        "    full_dataset = CASIAWebFaceDataset(rec_file, idx_file, transform=None)  # No transform applied initially\n",
        "\n",
        "    # Apply the transformation to the full dataset\n",
        "    full_dataset.transform = train_transform\n",
        "\n",
        "    BATCH_SIZE = 128\n",
        "    # Create a DataLoader for the full dataset\n",
        "    full_loader = DataLoader(full_dataset, batch_size=BATCH_SIZE, num_workers=8, shuffle=True)\n",
        "\n",
        "    # Wrap DataLoader with MpDeviceLoader for TPU distributed loading\n",
        "    train_loader = pl.MpDeviceLoader(full_loader, device)\n",
        "\n",
        "    # Initialize model, loss, optimizer, etc.\n",
        "    model = MobileFaceNetIntermediate(embedding_size=128).to(device)\n",
        "    arc_face = ArcFaceLoss(num_classes=full_dataset.get_num_unique_labels(), embedding_size=128, margin=0.3, scale=16, device=device).to(device)\n",
        "    # Define the optimizer\n",
        "    optimizer = torch.optim.SGD(\n",
        "        [\n",
        "            {'params': model.conv1.parameters()},\n",
        "            {'params': model.dwconv2.parameters()},\n",
        "            {'params': model.blocks.parameters()},\n",
        "            {'params': model.gdconv.parameters()},\n",
        "            {'params': model.fc.parameters(), 'weight_decay': 0.01},\n",
        "            {'params': arc_face.parameters(), 'weight_decay': 0.01}\n",
        "        ],\n",
        "        lr=0.0001,\n",
        "        momentum=0.9,\n",
        "        weight_decay=0.00001,\n",
        "        nesterov=True\n",
        "    )\n",
        "    model_path = \"/content/nModel.pth\"\n",
        "    if os.path.exists(model_path):\n",
        "      checkpoint = torch.load(model_path)\n",
        "      model.load_state_dict(checkpoint['model_state_dict'], strict=False)\n",
        "      arc_face.load_state_dict(checkpoint['arcface_state_dict'], strict=False)\n",
        "      optimizer.load_state_dict(checkpoint['optimizer_state_dict'])\n",
        "      print(\"Checkpoint loaded successfully!\")\n",
        "\n",
        "    # Define the learning rate scheduler\n",
        "    scheduler = optim.lr_scheduler.StepLR(optimizer, step_size=25, gamma=0.1)\n",
        "\n",
        "    # Define accuracy metrics (optional, you can modify or remove this if not needed)\n",
        "    train_accuracy = Accuracy(task='multiclass', num_classes=full_dataset.get_num_unique_labels()).to(device)\n",
        "\n",
        "    # Call the training function without validation or testing\n",
        "    epoch_losses, train_accuracies = train_tpu(\n",
        "        model, train_accuracy, device, optimizer, arc_face, scheduler, train_loader\n",
        "    )\n",
        "# Define any additional flags or arguments\n",
        "FLAGS = {}\n",
        "\n",
        "# Define file paths (these should be passed to the function)\n",
        "rec_file = '/content/drive/MyDrive/casia-webface/train.rec'\n",
        "idx_file = '/content/drive/MyDrive/casia-webface/train.idx'\n",
        "\n",
        "# Spawn the training across 8 TPU cores\n",
        "xmp.spawn(_mp_fn, args=(FLAGS, rec_file, idx_file), nprocs=1, start_method='fork')\n"
      ]
    }
  ],
  "metadata": {
    "accelerator": "TPU",
    "colab": {
      "gpuType": "V28",
      "machine_shape": "hm",
      "provenance": []
    },
    "kernelspec": {
      "display_name": "Python 3",
      "name": "python3"
    },
    "language_info": {
      "name": "python"
    }
  },
  "nbformat": 4,
  "nbformat_minor": 0
}