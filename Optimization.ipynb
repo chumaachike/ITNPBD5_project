{
  "cells": [
    {
      "cell_type": "code",
      "execution_count": 2,
      "metadata": {
        "id": "mg-eT5TqXsCI",
        "colab": {
          "base_uri": "https://localhost:8080/"
        },
        "outputId": "f2505aa9-5f97-4f4d-cad1-708aae94e8cc"
      },
      "outputs": [
        {
          "output_type": "stream",
          "name": "stdout",
          "text": [
            "Drive already mounted at /content/drive; to attempt to forcibly remount, call drive.mount(\"/content/drive\", force_remount=True).\n"
          ]
        }
      ],
      "source": [
        "from google.colab import drive\n",
        "drive.mount('/content/drive')\n"
      ]
    },
    {
      "cell_type": "code",
      "source": [
        "# or clone this repo, removing the '-' to allow python imports:\n",
        "!git clone https://github.com/timesler/facenet-pytorch.git facenet_pytorch\n",
        "!pip3 install torch torchvision torchaudio --index-url https://download.pytorch.org/whl/cu118\n",
        "!pip install mxnet\n",
        "!pip install torchmetrics"
      ],
      "metadata": {
        "colab": {
          "base_uri": "https://localhost:8080/"
        },
        "id": "K6m_BwZULBbG",
        "outputId": "9a12053a-c799-4870-e41f-d6e10e949ed6"
      },
      "execution_count": 3,
      "outputs": [
        {
          "output_type": "stream",
          "name": "stdout",
          "text": [
            "fatal: destination path 'facenet_pytorch' already exists and is not an empty directory.\n",
            "Looking in indexes: https://download.pytorch.org/whl/cu118\n",
            "Requirement already satisfied: torch in /usr/local/lib/python3.10/dist-packages (2.4.0+cpu)\n",
            "Requirement already satisfied: torchvision in /usr/local/lib/python3.10/dist-packages (0.19.0+cpu)\n",
            "Requirement already satisfied: torchaudio in /usr/local/lib/python3.10/dist-packages (2.4.0+cpu)\n",
            "Requirement already satisfied: filelock in /usr/local/lib/python3.10/dist-packages (from torch) (3.16.0)\n",
            "Requirement already satisfied: typing-extensions>=4.8.0 in /usr/local/lib/python3.10/dist-packages (from torch) (4.12.2)\n",
            "Requirement already satisfied: sympy in /usr/local/lib/python3.10/dist-packages (from torch) (1.13.2)\n",
            "Requirement already satisfied: networkx in /usr/local/lib/python3.10/dist-packages (from torch) (3.3)\n",
            "Requirement already satisfied: jinja2 in /usr/local/lib/python3.10/dist-packages (from torch) (3.1.4)\n",
            "Requirement already satisfied: fsspec in /usr/local/lib/python3.10/dist-packages (from torch) (2024.9.0)\n",
            "Requirement already satisfied: numpy in /usr/local/lib/python3.10/dist-packages (from torchvision) (1.26.4)\n",
            "Requirement already satisfied: pillow!=8.3.*,>=5.3.0 in /usr/local/lib/python3.10/dist-packages (from torchvision) (10.4.0)\n",
            "Requirement already satisfied: MarkupSafe>=2.0 in /usr/local/lib/python3.10/dist-packages (from jinja2->torch) (2.1.5)\n",
            "Requirement already satisfied: mpmath<1.4,>=1.1.0 in /usr/local/lib/python3.10/dist-packages (from sympy->torch) (1.3.0)\n",
            "Requirement already satisfied: mxnet in /usr/local/lib/python3.10/dist-packages (1.9.1)\n",
            "Requirement already satisfied: numpy<2.0.0,>1.16.0 in /usr/local/lib/python3.10/dist-packages (from mxnet) (1.26.4)\n",
            "Requirement already satisfied: requests<3,>=2.20.0 in /usr/local/lib/python3.10/dist-packages (from mxnet) (2.32.3)\n",
            "Requirement already satisfied: graphviz<0.9.0,>=0.8.1 in /usr/local/lib/python3.10/dist-packages (from mxnet) (0.8.4)\n",
            "Requirement already satisfied: charset-normalizer<4,>=2 in /usr/local/lib/python3.10/dist-packages (from requests<3,>=2.20.0->mxnet) (3.3.2)\n",
            "Requirement already satisfied: idna<4,>=2.5 in /usr/local/lib/python3.10/dist-packages (from requests<3,>=2.20.0->mxnet) (3.8)\n",
            "Requirement already satisfied: urllib3<3,>=1.21.1 in /usr/local/lib/python3.10/dist-packages (from requests<3,>=2.20.0->mxnet) (2.0.7)\n",
            "Requirement already satisfied: certifi>=2017.4.17 in /usr/local/lib/python3.10/dist-packages (from requests<3,>=2.20.0->mxnet) (2024.8.30)\n",
            "Requirement already satisfied: torchmetrics in /usr/local/lib/python3.10/dist-packages (1.4.1)\n",
            "Requirement already satisfied: numpy>1.20.0 in /usr/local/lib/python3.10/dist-packages (from torchmetrics) (1.26.4)\n",
            "Requirement already satisfied: packaging>17.1 in /usr/local/lib/python3.10/dist-packages (from torchmetrics) (24.1)\n",
            "Requirement already satisfied: torch>=1.10.0 in /usr/local/lib/python3.10/dist-packages (from torchmetrics) (2.4.0+cpu)\n",
            "Requirement already satisfied: lightning-utilities>=0.8.0 in /usr/local/lib/python3.10/dist-packages (from torchmetrics) (0.11.7)\n",
            "Requirement already satisfied: setuptools in /usr/local/lib/python3.10/dist-packages (from lightning-utilities>=0.8.0->torchmetrics) (71.0.4)\n",
            "Requirement already satisfied: typing-extensions in /usr/local/lib/python3.10/dist-packages (from lightning-utilities>=0.8.0->torchmetrics) (4.12.2)\n",
            "Requirement already satisfied: filelock in /usr/local/lib/python3.10/dist-packages (from torch>=1.10.0->torchmetrics) (3.16.0)\n",
            "Requirement already satisfied: sympy in /usr/local/lib/python3.10/dist-packages (from torch>=1.10.0->torchmetrics) (1.13.2)\n",
            "Requirement already satisfied: networkx in /usr/local/lib/python3.10/dist-packages (from torch>=1.10.0->torchmetrics) (3.3)\n",
            "Requirement already satisfied: jinja2 in /usr/local/lib/python3.10/dist-packages (from torch>=1.10.0->torchmetrics) (3.1.4)\n",
            "Requirement already satisfied: fsspec in /usr/local/lib/python3.10/dist-packages (from torch>=1.10.0->torchmetrics) (2024.9.0)\n",
            "Requirement already satisfied: MarkupSafe>=2.0 in /usr/local/lib/python3.10/dist-packages (from jinja2->torch>=1.10.0->torchmetrics) (2.1.5)\n",
            "Requirement already satisfied: mpmath<1.4,>=1.1.0 in /usr/local/lib/python3.10/dist-packages (from sympy->torch>=1.10.0->torchmetrics) (1.3.0)\n"
          ]
        }
      ]
    },
    {
      "cell_type": "code",
      "source": [
        "import numpy as np\n",
        "import os\n",
        "np.bool = bool\n",
        "import mxnet as mx\n",
        "import torch\n",
        "import torchvision.transforms as transforms\n",
        "from torch.utils.data import Dataset, DataLoader, Subset, random_split\n",
        "from PIL import Image\n",
        "import cv2\n",
        "import matplotlib.pyplot as plt\n",
        "import torch.nn as nn\n",
        "import torch.nn.functional as F\n",
        "import math\n",
        "import torch_xla\n",
        "import torch_xla.core.xla_model as xm\n",
        "import torch_xla.distributed.parallel_loader as pl\n",
        "import torch_xla.distributed.xla_multiprocessing as xmp\n",
        "from facenet_pytorch import MTCNN\n",
        "import torch.optim as optim\n",
        "from torch.optim.lr_scheduler import MultiStepLR\n",
        "from torchmetrics import Accuracy\n",
        "import torch_xla.utils.serialization as xser\n",
        "from Utils import preprocess_image, CANONICAL_LANDMARKS\n",
        "from CasiaWebFace import CASIAWebFaceDataset\n",
        "from Intermediate_Strategy import MobileFaceNetIntermediate\n",
        "from ArcFace import ArcFaceLoss\n",
        "from MobileFaceNet import MobileFaceNet\n",
        "from train_functions import train, train_tpu\n",
        "from DS import DS\n",
        "import random"
      ],
      "metadata": {
        "colab": {
          "base_uri": "https://localhost:8080/"
        },
        "id": "Y_wSD64gLC5w",
        "outputId": "ace73c13-7fa8-4f04-f842-0b5acdddf674"
      },
      "execution_count": 4,
      "outputs": [
        {
          "output_type": "stream",
          "name": "stderr",
          "text": [
            "/usr/local/lib/python3.10/dist-packages/torch_xla/__init__.py:202: UserWarning: `tensorflow` can conflict with `torch-xla`. Prefer `tensorflow-cpu` when using PyTorch/XLA. To silence this warning, `pip uninstall -y tensorflow && pip install tensorflow-cpu`. If you are in a notebook environment such as Colab or Kaggle, restart your notebook runtime afterwards.\n",
            "  warnings.warn(\n",
            "/content/facenet_pytorch/models/mtcnn.py:34: FutureWarning: You are using `torch.load` with `weights_only=False` (the current default value), which uses the default pickle module implicitly. It is possible to construct malicious pickle data which will execute arbitrary code during unpickling (See https://github.com/pytorch/pytorch/blob/main/SECURITY.md#untrusted-models for more details). In a future release, the default value for `weights_only` will be flipped to `True`. This limits the functions that could be executed during unpickling. Arbitrary objects will no longer be allowed to be loaded via this mode unless they are explicitly allowlisted by the user via `torch.serialization.add_safe_globals`. We recommend you start setting `weights_only=True` for any use case where you don't have full control of the loaded file. Please open an issue on GitHub for any issues related to this experimental feature.\n",
            "  state_dict = torch.load(state_dict_path)\n",
            "/content/facenet_pytorch/models/mtcnn.py:79: FutureWarning: You are using `torch.load` with `weights_only=False` (the current default value), which uses the default pickle module implicitly. It is possible to construct malicious pickle data which will execute arbitrary code during unpickling (See https://github.com/pytorch/pytorch/blob/main/SECURITY.md#untrusted-models for more details). In a future release, the default value for `weights_only` will be flipped to `True`. This limits the functions that could be executed during unpickling. Arbitrary objects will no longer be allowed to be loaded via this mode unless they are explicitly allowlisted by the user via `torch.serialization.add_safe_globals`. We recommend you start setting `weights_only=True` for any use case where you don't have full control of the loaded file. Please open an issue on GitHub for any issues related to this experimental feature.\n",
            "  state_dict = torch.load(state_dict_path)\n",
            "/content/facenet_pytorch/models/mtcnn.py:132: FutureWarning: You are using `torch.load` with `weights_only=False` (the current default value), which uses the default pickle module implicitly. It is possible to construct malicious pickle data which will execute arbitrary code during unpickling (See https://github.com/pytorch/pytorch/blob/main/SECURITY.md#untrusted-models for more details). In a future release, the default value for `weights_only` will be flipped to `True`. This limits the functions that could be executed during unpickling. Arbitrary objects will no longer be allowed to be loaded via this mode unless they are explicitly allowlisted by the user via `torch.serialization.add_safe_globals`. We recommend you start setting `weights_only=True` for any use case where you don't have full control of the loaded file. Please open an issue on GitHub for any issues related to this experimental feature.\n",
            "  state_dict = torch.load(state_dict_path)\n"
          ]
        }
      ]
    },
    {
      "cell_type": "code",
      "source": [
        "# Define the mean and std for normalization\n",
        "mean = [0.485, 0.456, 0.406]\n",
        "std = [0.229, 0.224, 0.225]\n",
        "\n",
        "# Define a named function to replace the lambda (already provided earlier)\n",
        "def preprocess_and_transform(img):\n",
        "    img = preprocess_image(img)  # Ensure preprocess_image is defined elsewhere\n",
        "    img = transforms.ToTensor()(img)\n",
        "    img = transforms.Normalize(mean=mean, std=std)(img)\n",
        "    return img\n",
        "\n",
        "# Define the transformation pipeline for training with augmentation\n",
        "train_transform = transforms.Compose([\n",
        "    transforms.RandomHorizontalFlip(),\n",
        "    transforms.RandomRotation(10),  # Rotate by +/- 10 degrees\n",
        "    transforms.ColorJitter(brightness=0.2, contrast=0.2, saturation=0.2, hue=0.1),\n",
        "    transforms.RandomResizedCrop(112, scale=(0.8, 1.0)),  # Randomly crop and resize to 112x112\n",
        "    transforms.Lambda(preprocess_and_transform)\n",
        "])"
      ],
      "metadata": {
        "id": "mMz-ecdDR1OJ"
      },
      "execution_count": 5,
      "outputs": []
    },
    {
      "cell_type": "code",
      "source": [
        "rec_file = '/content/drive/MyDrive/casia-webface/train.rec'\n",
        "idx_file = '/content/drive/MyDrive/casia-webface/train.idx'\n",
        "# Initialize the dataset inside the function\n",
        "full_dataset = CASIAWebFaceDataset(rec_file, idx_file, transform=None)  # No transform applied initially\n",
        "\n",
        "# Apply the transformation to the full dataset\n",
        "full_dataset.transform = train_transform\n",
        "\n",
        "BATCH_SIZE = 128\n",
        "# Create a DataLoader for the full dataset\n",
        "train_loader = DataLoader(full_dataset, batch_size=BATCH_SIZE, num_workers=8, shuffle=True)\n",
        "\n",
        "device = torch.device(\"cuda\" if torch.cuda.is_available() else \"cpu\")\n",
        "model = MobileFaceNetIntermediate(embedding_size=128).to(device)"
      ],
      "metadata": {
        "id": "uOQzCHL3T7BW"
      },
      "execution_count": 6,
      "outputs": []
    },
    {
      "cell_type": "code",
      "source": [
        "def random_search(num_results, steps):\n",
        "    # Initialize a data structure 'DS' to store the results.\n",
        "    # 'num_results' determines the max size of the collection\n",
        "    results = DS(num_results)\n",
        "\n",
        "    # Perform 'steps' number of iterations to sample points in the space.\n",
        "    for _ in range(steps):\n",
        "        # Randomly generate points for margin and scale within bounds.\n",
        "        margin, scale = random.uniform(0, 0.5), random.uniform(0, 100)\n",
        "        # Initialize ArcFace loss\n",
        "        arc_face = ArcFaceLoss(num_classes=full_dataset.get_num_unique_labels(),\n",
        "                               embedding_size=128, margin=margin, scale=scale, device=device).to(device)\n",
        "\n",
        "\n",
        "        optimizer = torch.optim.SGD(\n",
        "    [\n",
        "        {'params': model.conv1.parameters()},\n",
        "        {'params': model.dwconv2.parameters()},\n",
        "        {'params': model.blocks.parameters()},\n",
        "        {'params': model.gdconv.parameters()},\n",
        "        {'params': model.fc.parameters(), 'weight_decay': 0.01},\n",
        "        {'params': arc_face.parameters(), 'weight_decay': 0.01}\n",
        "    ],\n",
        "    lr=0.0001,\n",
        "    momentum=0.9,\n",
        "    weight_decay=0.00001,\n",
        "    nesterov=True\n",
        "        )\n",
        "        # Define the learning rate scheduler\n",
        "        scheduler = torch.optim.lr_scheduler.StepLR(optimizer, step_size=25, gamma=0.1)\n",
        "\n",
        "        # Define accuracy metrics (optional, you can modify or remove this if not needed)\n",
        "        train_accuracy = Accuracy(task='multiclass', num_classes=full_dataset.get_num_unique_labels()).to(device)\n",
        "\n",
        "        # Train the model\n",
        "        _, accuracy = train(model, train_loader, optimizer, arc_face, train_accuracy, device)\n",
        "\n",
        "        # Add the point and its function value to the results data structure.\n",
        "        # The second argument \"max\" indicates that we're interested in points with maximum 'f' values.\n",
        "        results.add({'margin': margin, 'scale': scale, 'f': accuracy}, \"max\")\n",
        "\n",
        "    # Return the data structure containing the top results after all iterations.\n",
        "    return results\n"
      ],
      "metadata": {
        "id": "nV9SmWwLLHnu"
      },
      "execution_count": 7,
      "outputs": []
    },
    {
      "cell_type": "code",
      "source": [
        "def clip(point, bounds):\n",
        "    margin = max(bounds[0][0], min(point[0], bounds[0][1]))\n",
        "    scale = max(bounds[1][0], min(point[1], bounds[1][1]))\n",
        "    return margin, scale\n"
      ],
      "metadata": {
        "id": "zFaB9GT5Vs4y"
      },
      "execution_count": 8,
      "outputs": []
    },
    {
      "cell_type": "code",
      "source": [
        "def hill_climb(num_results, start_margin, start_scale, bounds, model, train_loader, device, step_size=0.01, iterations=1000):\n",
        "    \"\"\"\n",
        "    Hill Climbing to optimize margin and scale for the model's ArcFace loss.\n",
        "    \"\"\"\n",
        "\n",
        "    # Initialize the starting point (margin, scale).\n",
        "    current_margin = start_margin\n",
        "    current_scale = start_scale\n",
        "\n",
        "    # Initialize ArcFace loss with starting values.\n",
        "    arc_face = ArcFaceLoss(num_classes=full_dataset.get_num_unique_labels(),\n",
        "                           embedding_size=128, margin=current_margin, scale=current_scale, device=device).to(device)\n",
        "\n",
        "    optimizer = torch.optim.SGD(\n",
        "        [\n",
        "            {'params': model.conv1.parameters()},\n",
        "            {'params': model.dwconv2.parameters()},\n",
        "            {'params': model.blocks.parameters()},\n",
        "            {'params': model.gdconv.parameters()},\n",
        "            {'params': model.fc.parameters(), 'weight_decay': 0.01},\n",
        "            {'params': arc_face.parameters(), 'weight_decay': 0.01}\n",
        "        ],\n",
        "        lr=0.0001,\n",
        "        momentum=0.9,\n",
        "        weight_decay=0.00001,\n",
        "        nesterov=True\n",
        "    )\n",
        "\n",
        "    scheduler = torch.optim.lr_scheduler.StepLR(optimizer, step_size=25, gamma=0.1)\n",
        "\n",
        "    # Define accuracy metric.\n",
        "    train_accuracy = Accuracy(task='multiclass', num_classes=full_dataset.get_num_unique_labels()).to(device)\n",
        "\n",
        "    # Train the model with the initial margin and scale.\n",
        "    _, current_accuracy = train(model, train_loader, optimizer, arc_face, train_accuracy, device)\n",
        "\n",
        "    # Start the hill climbing loop.\n",
        "    for _ in range(iterations):\n",
        "        # Generate neighboring points (margins and scales) around the current point.\n",
        "        neighbors = [\n",
        "            (current_margin + d_margin, current_scale + d_scale)\n",
        "            for d_margin in [-step_size, 0, step_size]  # Change in margin.\n",
        "            for d_scale in [-step_size, 0, step_size]  # Change in scale.\n",
        "            if not (d_margin == 0 and d_scale == 0)  # Exclude the current point (no change).\n",
        "        ]\n",
        "\n",
        "        # Initialize variables for the best next point.\n",
        "        best_margin = current_margin\n",
        "        best_scale = current_scale\n",
        "        best_accuracy = current_accuracy\n",
        "\n",
        "        # Evaluate all neighboring points.\n",
        "        for margin, scale in neighbors:\n",
        "            # Ensure the margin and scale are within bounds.\n",
        "            margin, scale = clip((margin, scale), bounds)\n",
        "\n",
        "            # Update ArcFaceLoss with new margin and scale.\n",
        "            arc_face = ArcFaceLoss(num_classes=full_dataset.get_num_unique_labels(),\n",
        "                                   embedding_size=128, margin=margin, scale=scale, device=device).to(device)\n",
        "\n",
        "            # Train the model with the new margin and scale.\n",
        "            _, accuracy = train(model, train_loader, optimizer, arc_face, train_accuracy, device)\n",
        "\n",
        "            # If the new accuracy is better, update the best point.\n",
        "            if accuracy > best_accuracy:\n",
        "                best_margin = margin\n",
        "                best_scale = scale\n",
        "                best_accuracy = accuracy\n",
        "\n",
        "        # If no improvement is found, break the loop (plateau).\n",
        "        if best_accuracy == current_accuracy:\n",
        "            break\n",
        "\n",
        "        # Otherwise, move to the best neighboring point.\n",
        "        current_margin = best_margin\n",
        "        current_scale = best_scale\n",
        "        current_accuracy = best_accuracy\n",
        "\n",
        "\n",
        "    # Return the data structure containing the top results after all iterations.\n",
        "    return current_accuracy, (current_margin, current_scale)\n"
      ],
      "metadata": {
        "id": "-XEVRVWkRMVV"
      },
      "execution_count": 9,
      "outputs": []
    },
    {
      "cell_type": "code",
      "source": [
        "# Initialize the best value found so far and its corresponding point.\n",
        "best_value_hill_climb, best_point = 0, ()\n",
        "\n",
        "\n",
        "bounds = [(0, 2), (0, 100)]  # (min_margin, max_margin), (min_scale, max_scale)\n",
        "results = random_search(1000, 10000000)\n",
        "random_search_res = results.get_data()\n",
        "# Call the hill climb function to optimize margin and scale.\n",
        "for result in random_search_res:\n",
        "    start_margin, start_scale = result['margin'], result['scale']\n",
        "    best_results = hill_climb(\n",
        "      num_results=10,\n",
        "      start_margin=start_margin,\n",
        "      start_scale=start_scale,\n",
        "      bounds=bounds,\n",
        "      model=model,\n",
        "      train_loader=train_loader,\n",
        "      device=device\n",
        ")\n",
        "\n",
        "print(best_results)\n"
      ],
      "metadata": {
        "colab": {
          "base_uri": "https://localhost:8080/",
          "height": 356
        },
        "id": "VGpoH8p5WdVx",
        "outputId": "7153c5e5-67df-4400-ffaa-f16a1dc5438a"
      },
      "execution_count": 10,
      "outputs": [
        {
          "output_type": "error",
          "ename": "KeyboardInterrupt",
          "evalue": "",
          "traceback": [
            "\u001b[0;31m---------------------------------------------------------------------------\u001b[0m",
            "\u001b[0;31mKeyboardInterrupt\u001b[0m                         Traceback (most recent call last)",
            "\u001b[0;32m<ipython-input-10-764bf6fd0ba3>\u001b[0m in \u001b[0;36m<cell line: 6>\u001b[0;34m()\u001b[0m\n\u001b[1;32m      4\u001b[0m \u001b[0;34m\u001b[0m\u001b[0m\n\u001b[1;32m      5\u001b[0m \u001b[0mbounds\u001b[0m \u001b[0;34m=\u001b[0m \u001b[0;34m[\u001b[0m\u001b[0;34m(\u001b[0m\u001b[0;36m0\u001b[0m\u001b[0;34m,\u001b[0m \u001b[0;36m2\u001b[0m\u001b[0;34m)\u001b[0m\u001b[0;34m,\u001b[0m \u001b[0;34m(\u001b[0m\u001b[0;36m0\u001b[0m\u001b[0;34m,\u001b[0m \u001b[0;36m100\u001b[0m\u001b[0;34m)\u001b[0m\u001b[0;34m]\u001b[0m  \u001b[0;31m# (min_margin, max_margin), (min_scale, max_scale)\u001b[0m\u001b[0;34m\u001b[0m\u001b[0;34m\u001b[0m\u001b[0m\n\u001b[0;32m----> 6\u001b[0;31m \u001b[0mresults\u001b[0m \u001b[0;34m=\u001b[0m \u001b[0mrandom_search\u001b[0m\u001b[0;34m(\u001b[0m\u001b[0;36m1000\u001b[0m\u001b[0;34m,\u001b[0m \u001b[0;36m10000000\u001b[0m\u001b[0;34m)\u001b[0m\u001b[0;34m\u001b[0m\u001b[0;34m\u001b[0m\u001b[0m\n\u001b[0m\u001b[1;32m      7\u001b[0m \u001b[0mrandom_search_res\u001b[0m \u001b[0;34m=\u001b[0m \u001b[0mresults\u001b[0m\u001b[0;34m.\u001b[0m\u001b[0mget_data\u001b[0m\u001b[0;34m(\u001b[0m\u001b[0;34m)\u001b[0m\u001b[0;34m\u001b[0m\u001b[0;34m\u001b[0m\u001b[0m\n\u001b[1;32m      8\u001b[0m \u001b[0;31m# Call the hill climb function to optimize margin and scale.\u001b[0m\u001b[0;34m\u001b[0m\u001b[0;34m\u001b[0m\u001b[0m\n",
            "\u001b[0;32m<ipython-input-7-55bb02a4cbfb>\u001b[0m in \u001b[0;36mrandom_search\u001b[0;34m(num_results, steps)\u001b[0m\n\u001b[1;32m     34\u001b[0m \u001b[0;34m\u001b[0m\u001b[0m\n\u001b[1;32m     35\u001b[0m         \u001b[0;31m# Train the model\u001b[0m\u001b[0;34m\u001b[0m\u001b[0;34m\u001b[0m\u001b[0m\n\u001b[0;32m---> 36\u001b[0;31m         \u001b[0m_\u001b[0m\u001b[0;34m,\u001b[0m \u001b[0maccuracy\u001b[0m \u001b[0;34m=\u001b[0m \u001b[0mtrain\u001b[0m\u001b[0;34m(\u001b[0m\u001b[0mmodel\u001b[0m\u001b[0;34m,\u001b[0m \u001b[0mtrain_loader\u001b[0m\u001b[0;34m,\u001b[0m \u001b[0moptimizer\u001b[0m\u001b[0;34m,\u001b[0m \u001b[0marc_face\u001b[0m\u001b[0;34m,\u001b[0m \u001b[0mtrain_accuracy\u001b[0m\u001b[0;34m,\u001b[0m \u001b[0mdevice\u001b[0m\u001b[0;34m)\u001b[0m\u001b[0;34m\u001b[0m\u001b[0;34m\u001b[0m\u001b[0m\n\u001b[0m\u001b[1;32m     37\u001b[0m \u001b[0;34m\u001b[0m\u001b[0m\n\u001b[1;32m     38\u001b[0m         \u001b[0;31m# Add the point and its function value to the results data structure.\u001b[0m\u001b[0;34m\u001b[0m\u001b[0;34m\u001b[0m\u001b[0m\n",
            "\u001b[0;32m/content/train_functions.py\u001b[0m in \u001b[0;36mtrain\u001b[0;34m(model, train_loader, optimizer, arc_face, train_accuracy, device)\u001b[0m\n\u001b[1;32m     21\u001b[0m             \u001b[0;32mcontinue\u001b[0m\u001b[0;34m\u001b[0m\u001b[0;34m\u001b[0m\u001b[0m\n\u001b[1;32m     22\u001b[0m \u001b[0;34m\u001b[0m\u001b[0m\n\u001b[0;32m---> 23\u001b[0;31m         \u001b[0mcur_loss\u001b[0m\u001b[0;34m.\u001b[0m\u001b[0mbackward\u001b[0m\u001b[0;34m(\u001b[0m\u001b[0;34m)\u001b[0m\u001b[0;34m\u001b[0m\u001b[0;34m\u001b[0m\u001b[0m\n\u001b[0m\u001b[1;32m     24\u001b[0m         \u001b[0mxm\u001b[0m\u001b[0;34m.\u001b[0m\u001b[0moptimizer_step\u001b[0m\u001b[0;34m(\u001b[0m\u001b[0moptimizer\u001b[0m\u001b[0;34m)\u001b[0m  \u001b[0;31m# Use XLA-specific optimizer step\u001b[0m\u001b[0;34m\u001b[0m\u001b[0;34m\u001b[0m\u001b[0m\n\u001b[1;32m     25\u001b[0m \u001b[0;34m\u001b[0m\u001b[0m\n",
            "\u001b[0;32m/usr/local/lib/python3.10/dist-packages/torch/_tensor.py\u001b[0m in \u001b[0;36mbackward\u001b[0;34m(self, gradient, retain_graph, create_graph, inputs)\u001b[0m\n\u001b[1;32m    519\u001b[0m                 \u001b[0minputs\u001b[0m\u001b[0;34m=\u001b[0m\u001b[0minputs\u001b[0m\u001b[0;34m,\u001b[0m\u001b[0;34m\u001b[0m\u001b[0;34m\u001b[0m\u001b[0m\n\u001b[1;32m    520\u001b[0m             )\n\u001b[0;32m--> 521\u001b[0;31m         torch.autograd.backward(\n\u001b[0m\u001b[1;32m    522\u001b[0m             \u001b[0mself\u001b[0m\u001b[0;34m,\u001b[0m \u001b[0mgradient\u001b[0m\u001b[0;34m,\u001b[0m \u001b[0mretain_graph\u001b[0m\u001b[0;34m,\u001b[0m \u001b[0mcreate_graph\u001b[0m\u001b[0;34m,\u001b[0m \u001b[0minputs\u001b[0m\u001b[0;34m=\u001b[0m\u001b[0minputs\u001b[0m\u001b[0;34m\u001b[0m\u001b[0;34m\u001b[0m\u001b[0m\n\u001b[1;32m    523\u001b[0m         )\n",
            "\u001b[0;32m/usr/local/lib/python3.10/dist-packages/torch/autograd/__init__.py\u001b[0m in \u001b[0;36mbackward\u001b[0;34m(tensors, grad_tensors, retain_graph, create_graph, grad_variables, inputs)\u001b[0m\n\u001b[1;32m    287\u001b[0m     \u001b[0;31m# some Python versions print out the first line of a multi-line function\u001b[0m\u001b[0;34m\u001b[0m\u001b[0;34m\u001b[0m\u001b[0m\n\u001b[1;32m    288\u001b[0m     \u001b[0;31m# calls in the traceback and some print out the last line\u001b[0m\u001b[0;34m\u001b[0m\u001b[0;34m\u001b[0m\u001b[0m\n\u001b[0;32m--> 289\u001b[0;31m     _engine_run_backward(\n\u001b[0m\u001b[1;32m    290\u001b[0m         \u001b[0mtensors\u001b[0m\u001b[0;34m,\u001b[0m\u001b[0;34m\u001b[0m\u001b[0;34m\u001b[0m\u001b[0m\n\u001b[1;32m    291\u001b[0m         \u001b[0mgrad_tensors_\u001b[0m\u001b[0;34m,\u001b[0m\u001b[0;34m\u001b[0m\u001b[0;34m\u001b[0m\u001b[0m\n",
            "\u001b[0;32m/usr/local/lib/python3.10/dist-packages/torch/autograd/graph.py\u001b[0m in \u001b[0;36m_engine_run_backward\u001b[0;34m(t_outputs, *args, **kwargs)\u001b[0m\n\u001b[1;32m    766\u001b[0m         \u001b[0munregister_hooks\u001b[0m \u001b[0;34m=\u001b[0m \u001b[0m_register_logging_hooks_on_whole_graph\u001b[0m\u001b[0;34m(\u001b[0m\u001b[0mt_outputs\u001b[0m\u001b[0;34m)\u001b[0m\u001b[0;34m\u001b[0m\u001b[0;34m\u001b[0m\u001b[0m\n\u001b[1;32m    767\u001b[0m     \u001b[0;32mtry\u001b[0m\u001b[0;34m:\u001b[0m\u001b[0;34m\u001b[0m\u001b[0;34m\u001b[0m\u001b[0m\n\u001b[0;32m--> 768\u001b[0;31m         return Variable._execution_engine.run_backward(  # Calls into the C++ engine to run the backward pass\n\u001b[0m\u001b[1;32m    769\u001b[0m             \u001b[0mt_outputs\u001b[0m\u001b[0;34m,\u001b[0m \u001b[0;34m*\u001b[0m\u001b[0margs\u001b[0m\u001b[0;34m,\u001b[0m \u001b[0;34m**\u001b[0m\u001b[0mkwargs\u001b[0m\u001b[0;34m\u001b[0m\u001b[0;34m\u001b[0m\u001b[0m\n\u001b[1;32m    770\u001b[0m         )  # Calls into the C++ engine to run the backward pass\n",
            "\u001b[0;31mKeyboardInterrupt\u001b[0m: "
          ]
        }
      ]
    }
  ],
  "metadata": {
    "accelerator": "TPU",
    "colab": {
      "gpuType": "V28",
      "machine_shape": "hm",
      "provenance": []
    },
    "kernelspec": {
      "display_name": "Python 3",
      "name": "python3"
    },
    "language_info": {
      "name": "python"
    }
  },
  "nbformat": 4,
  "nbformat_minor": 0
}